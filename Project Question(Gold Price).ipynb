{
 "cells": [
  {
   "cell_type": "markdown",
   "id": "48102355",
   "metadata": {},
   "source": [
    "# <span style = \"color: green\" >Simple Linear Regression Project (Gold Price Prediction) </span>"
   ]
  },
  {
   "cell_type": "markdown",
   "id": "2e972c7b",
   "metadata": {},
   "source": [
    "***"
   ]
  },
  {
   "cell_type": "markdown",
   "id": "7c57d13c",
   "metadata": {},
   "source": [
    "Of all the precious metals, gold is the most popular as an investment. Investors generally buy gold as a way of diversifying risk, especially through the use of futures contracts and derivatives. The gold market is subject to speculation and volatility as are other markets. Compared to other precious metals used for investment, gold has been the most effective safe haven across a number of countries.<br><br>\n",
    "The Dataset contain gold prices (in USD) from 2001 to 2019.\n",
    "Our goal is to predict where the gold prices will be in the coming years"
   ]
  },
  {
   "cell_type": "markdown",
   "id": "9ab4112a",
   "metadata": {},
   "source": [
    "#### Import the necessary libraries"
   ]
  },
  {
   "cell_type": "code",
   "execution_count": 1,
   "id": "4255e2ef",
   "metadata": {},
   "outputs": [],
   "source": [
    "import pandas as pd\n",
    "import numpy as np\n",
    "import matplotlib.pyplot as plt\n",
    "import seaborn as sns\n",
    "%matplotlib inline"
   ]
  },
  {
   "cell_type": "markdown",
   "id": "9f81002c",
   "metadata": {},
   "source": [
    "#### Read 'gold_price_usd.csv' & store it in a variable"
   ]
  },
  {
   "cell_type": "code",
   "execution_count": 2,
   "id": "85dae8da",
   "metadata": {},
   "outputs": [],
   "source": [
    "df=pd.read_csv('gold_price_usd.csv')"
   ]
  },
  {
   "cell_type": "markdown",
   "id": "660c1f06",
   "metadata": {},
   "source": [
    "#### View the first 5 rows"
   ]
  },
  {
   "cell_type": "code",
   "execution_count": 3,
   "id": "bfe99a6d",
   "metadata": {},
   "outputs": [
    {
     "data": {
      "text/html": [
       "<div>\n",
       "<style scoped>\n",
       "    .dataframe tbody tr th:only-of-type {\n",
       "        vertical-align: middle;\n",
       "    }\n",
       "\n",
       "    .dataframe tbody tr th {\n",
       "        vertical-align: top;\n",
       "    }\n",
       "\n",
       "    .dataframe thead th {\n",
       "        text-align: right;\n",
       "    }\n",
       "</style>\n",
       "<table border=\"1\" class=\"dataframe\">\n",
       "  <thead>\n",
       "    <tr style=\"text-align: right;\">\n",
       "      <th></th>\n",
       "      <th>Date</th>\n",
       "      <th>USD (AM)</th>\n",
       "    </tr>\n",
       "  </thead>\n",
       "  <tbody>\n",
       "    <tr>\n",
       "      <th>0</th>\n",
       "      <td>2001-01-02</td>\n",
       "      <td>272.80</td>\n",
       "    </tr>\n",
       "    <tr>\n",
       "      <th>1</th>\n",
       "      <td>2001-01-03</td>\n",
       "      <td>269.00</td>\n",
       "    </tr>\n",
       "    <tr>\n",
       "      <th>2</th>\n",
       "      <td>2001-01-04</td>\n",
       "      <td>268.75</td>\n",
       "    </tr>\n",
       "    <tr>\n",
       "      <th>3</th>\n",
       "      <td>2001-01-05</td>\n",
       "      <td>268.00</td>\n",
       "    </tr>\n",
       "    <tr>\n",
       "      <th>4</th>\n",
       "      <td>2001-01-08</td>\n",
       "      <td>268.60</td>\n",
       "    </tr>\n",
       "  </tbody>\n",
       "</table>\n",
       "</div>"
      ],
      "text/plain": [
       "         Date  USD (AM)\n",
       "0  2001-01-02    272.80\n",
       "1  2001-01-03    269.00\n",
       "2  2001-01-04    268.75\n",
       "3  2001-01-05    268.00\n",
       "4  2001-01-08    268.60"
      ]
     },
     "execution_count": 3,
     "metadata": {},
     "output_type": "execute_result"
    }
   ],
   "source": [
    "df.head()"
   ]
  },
  {
   "cell_type": "markdown",
   "id": "b660ee82",
   "metadata": {},
   "source": [
    "#### Check the information"
   ]
  },
  {
   "cell_type": "code",
   "execution_count": 66,
   "id": "ddcffff6",
   "metadata": {},
   "outputs": [
    {
     "name": "stdout",
     "output_type": "stream",
     "text": [
      "<class 'pandas.core.frame.DataFrame'>\n",
      "RangeIndex: 4718 entries, 0 to 4717\n",
      "Data columns (total 2 columns):\n",
      " #   Column    Non-Null Count  Dtype  \n",
      "---  ------    --------------  -----  \n",
      " 0   Date      4718 non-null   object \n",
      " 1   USD (AM)  4718 non-null   float64\n",
      "dtypes: float64(1), object(1)\n",
      "memory usage: 73.8+ KB\n"
     ]
    }
   ],
   "source": [
    "df.info()"
   ]
  },
  {
   "cell_type": "markdown",
   "id": "8f82c0da",
   "metadata": {},
   "source": [
    "#### Find the columns"
   ]
  },
  {
   "cell_type": "code",
   "execution_count": 67,
   "id": "089a8915",
   "metadata": {},
   "outputs": [
    {
     "data": {
      "text/plain": [
       "Index(['Date', 'USD (AM)'], dtype='object')"
      ]
     },
     "execution_count": 67,
     "metadata": {},
     "output_type": "execute_result"
    }
   ],
   "source": [
    "df.columns"
   ]
  },
  {
   "cell_type": "markdown",
   "id": "33d9321f",
   "metadata": {},
   "source": [
    "#### Rename USD (AM) to Price"
   ]
  },
  {
   "cell_type": "code",
   "execution_count": 4,
   "id": "ad386d7e",
   "metadata": {},
   "outputs": [],
   "source": [
    "df.rename(columns={'USD (AM)':'Price'},inplace=True)\n"
   ]
  },
  {
   "cell_type": "code",
   "execution_count": 5,
   "id": "fd506ef7",
   "metadata": {},
   "outputs": [
    {
     "data": {
      "text/html": [
       "<div>\n",
       "<style scoped>\n",
       "    .dataframe tbody tr th:only-of-type {\n",
       "        vertical-align: middle;\n",
       "    }\n",
       "\n",
       "    .dataframe tbody tr th {\n",
       "        vertical-align: top;\n",
       "    }\n",
       "\n",
       "    .dataframe thead th {\n",
       "        text-align: right;\n",
       "    }\n",
       "</style>\n",
       "<table border=\"1\" class=\"dataframe\">\n",
       "  <thead>\n",
       "    <tr style=\"text-align: right;\">\n",
       "      <th></th>\n",
       "      <th>Date</th>\n",
       "      <th>Price</th>\n",
       "    </tr>\n",
       "  </thead>\n",
       "  <tbody>\n",
       "    <tr>\n",
       "      <th>0</th>\n",
       "      <td>2001-01-02</td>\n",
       "      <td>272.8</td>\n",
       "    </tr>\n",
       "    <tr>\n",
       "      <th>1</th>\n",
       "      <td>2001-01-03</td>\n",
       "      <td>269.0</td>\n",
       "    </tr>\n",
       "  </tbody>\n",
       "</table>\n",
       "</div>"
      ],
      "text/plain": [
       "         Date  Price\n",
       "0  2001-01-02  272.8\n",
       "1  2001-01-03  269.0"
      ]
     },
     "execution_count": 5,
     "metadata": {},
     "output_type": "execute_result"
    }
   ],
   "source": [
    "df.head(2)"
   ]
  },
  {
   "cell_type": "markdown",
   "id": "0e7710f8",
   "metadata": {},
   "source": [
    "#### Check if there are any missing values in the dataset"
   ]
  },
  {
   "cell_type": "code",
   "execution_count": 6,
   "id": "c384375e",
   "metadata": {},
   "outputs": [
    {
     "data": {
      "text/plain": [
       "Date     0\n",
       "Price    0\n",
       "dtype: int64"
      ]
     },
     "execution_count": 6,
     "metadata": {},
     "output_type": "execute_result"
    }
   ],
   "source": [
    "df.isna().sum()"
   ]
  },
  {
   "cell_type": "markdown",
   "id": "6ba55458",
   "metadata": {},
   "source": [
    "#### Gather the basic statistical information about the dataset"
   ]
  },
  {
   "cell_type": "code",
   "execution_count": 7,
   "id": "865a48db",
   "metadata": {},
   "outputs": [
    {
     "data": {
      "text/html": [
       "<div>\n",
       "<style scoped>\n",
       "    .dataframe tbody tr th:only-of-type {\n",
       "        vertical-align: middle;\n",
       "    }\n",
       "\n",
       "    .dataframe tbody tr th {\n",
       "        vertical-align: top;\n",
       "    }\n",
       "\n",
       "    .dataframe thead th {\n",
       "        text-align: right;\n",
       "    }\n",
       "</style>\n",
       "<table border=\"1\" class=\"dataframe\">\n",
       "  <thead>\n",
       "    <tr style=\"text-align: right;\">\n",
       "      <th></th>\n",
       "      <th>Price</th>\n",
       "    </tr>\n",
       "  </thead>\n",
       "  <tbody>\n",
       "    <tr>\n",
       "      <th>count</th>\n",
       "      <td>4718.000000</td>\n",
       "    </tr>\n",
       "    <tr>\n",
       "      <th>mean</th>\n",
       "      <td>959.990812</td>\n",
       "    </tr>\n",
       "    <tr>\n",
       "      <th>std</th>\n",
       "      <td>449.456217</td>\n",
       "    </tr>\n",
       "    <tr>\n",
       "      <th>min</th>\n",
       "      <td>256.700000</td>\n",
       "    </tr>\n",
       "    <tr>\n",
       "      <th>25%</th>\n",
       "      <td>449.112500</td>\n",
       "    </tr>\n",
       "    <tr>\n",
       "      <th>50%</th>\n",
       "      <td>1113.125000</td>\n",
       "    </tr>\n",
       "    <tr>\n",
       "      <th>75%</th>\n",
       "      <td>1293.750000</td>\n",
       "    </tr>\n",
       "    <tr>\n",
       "      <th>max</th>\n",
       "      <td>1896.500000</td>\n",
       "    </tr>\n",
       "  </tbody>\n",
       "</table>\n",
       "</div>"
      ],
      "text/plain": [
       "             Price\n",
       "count  4718.000000\n",
       "mean    959.990812\n",
       "std     449.456217\n",
       "min     256.700000\n",
       "25%     449.112500\n",
       "50%    1113.125000\n",
       "75%    1293.750000\n",
       "max    1896.500000"
      ]
     },
     "execution_count": 7,
     "metadata": {},
     "output_type": "execute_result"
    }
   ],
   "source": [
    "df.describe()"
   ]
  },
  {
   "cell_type": "markdown",
   "id": "8ad500ad",
   "metadata": {},
   "source": [
    "#### Convert Date column from object to datetime format"
   ]
  },
  {
   "cell_type": "code",
   "execution_count": 8,
   "id": "997bfd4b",
   "metadata": {},
   "outputs": [],
   "source": [
    "df['Date']=pd.to_datetime(df['Date'])\n",
    "#df['Date']=pd.to_datetime(df['Date'].dt.),format='%Y%m%d',errors='ignore'"
   ]
  },
  {
   "cell_type": "code",
   "execution_count": 9,
   "id": "60ff8187",
   "metadata": {},
   "outputs": [
    {
     "data": {
      "text/plain": [
       "dtype('<M8[ns]')"
      ]
     },
     "execution_count": 9,
     "metadata": {},
     "output_type": "execute_result"
    }
   ],
   "source": [
    "df['Date'].dtypes"
   ]
  },
  {
   "cell_type": "code",
   "execution_count": 10,
   "id": "be0bcf6c",
   "metadata": {},
   "outputs": [
    {
     "data": {
      "text/html": [
       "<div>\n",
       "<style scoped>\n",
       "    .dataframe tbody tr th:only-of-type {\n",
       "        vertical-align: middle;\n",
       "    }\n",
       "\n",
       "    .dataframe tbody tr th {\n",
       "        vertical-align: top;\n",
       "    }\n",
       "\n",
       "    .dataframe thead th {\n",
       "        text-align: right;\n",
       "    }\n",
       "</style>\n",
       "<table border=\"1\" class=\"dataframe\">\n",
       "  <thead>\n",
       "    <tr style=\"text-align: right;\">\n",
       "      <th></th>\n",
       "      <th>Date</th>\n",
       "      <th>Price</th>\n",
       "    </tr>\n",
       "  </thead>\n",
       "  <tbody>\n",
       "    <tr>\n",
       "      <th>0</th>\n",
       "      <td>2001-01-02</td>\n",
       "      <td>272.8</td>\n",
       "    </tr>\n",
       "    <tr>\n",
       "      <th>1</th>\n",
       "      <td>2001-01-03</td>\n",
       "      <td>269.0</td>\n",
       "    </tr>\n",
       "  </tbody>\n",
       "</table>\n",
       "</div>"
      ],
      "text/plain": [
       "        Date  Price\n",
       "0 2001-01-02  272.8\n",
       "1 2001-01-03  269.0"
      ]
     },
     "execution_count": 10,
     "metadata": {},
     "output_type": "execute_result"
    }
   ],
   "source": [
    "df.head(2)"
   ]
  },
  {
   "cell_type": "markdown",
   "id": "37f41fc8",
   "metadata": {},
   "source": [
    "#### Create a new column with Year"
   ]
  },
  {
   "cell_type": "code",
   "execution_count": 11,
   "id": "3015384a",
   "metadata": {},
   "outputs": [],
   "source": [
    "df['Year'] = df['Date'].dt.year"
   ]
  },
  {
   "cell_type": "code",
   "execution_count": 12,
   "id": "ee20f0d9",
   "metadata": {},
   "outputs": [],
   "source": [
    "df['Month']=df['Date'].dt.month"
   ]
  },
  {
   "cell_type": "code",
   "execution_count": 13,
   "id": "4ff012ca",
   "metadata": {},
   "outputs": [
    {
     "data": {
      "text/html": [
       "<div>\n",
       "<style scoped>\n",
       "    .dataframe tbody tr th:only-of-type {\n",
       "        vertical-align: middle;\n",
       "    }\n",
       "\n",
       "    .dataframe tbody tr th {\n",
       "        vertical-align: top;\n",
       "    }\n",
       "\n",
       "    .dataframe thead th {\n",
       "        text-align: right;\n",
       "    }\n",
       "</style>\n",
       "<table border=\"1\" class=\"dataframe\">\n",
       "  <thead>\n",
       "    <tr style=\"text-align: right;\">\n",
       "      <th></th>\n",
       "      <th>Date</th>\n",
       "      <th>Price</th>\n",
       "      <th>Year</th>\n",
       "      <th>Month</th>\n",
       "    </tr>\n",
       "  </thead>\n",
       "  <tbody>\n",
       "    <tr>\n",
       "      <th>0</th>\n",
       "      <td>2001-01-02</td>\n",
       "      <td>272.80</td>\n",
       "      <td>2001</td>\n",
       "      <td>1</td>\n",
       "    </tr>\n",
       "    <tr>\n",
       "      <th>1</th>\n",
       "      <td>2001-01-03</td>\n",
       "      <td>269.00</td>\n",
       "      <td>2001</td>\n",
       "      <td>1</td>\n",
       "    </tr>\n",
       "    <tr>\n",
       "      <th>2</th>\n",
       "      <td>2001-01-04</td>\n",
       "      <td>268.75</td>\n",
       "      <td>2001</td>\n",
       "      <td>1</td>\n",
       "    </tr>\n",
       "    <tr>\n",
       "      <th>3</th>\n",
       "      <td>2001-01-05</td>\n",
       "      <td>268.00</td>\n",
       "      <td>2001</td>\n",
       "      <td>1</td>\n",
       "    </tr>\n",
       "    <tr>\n",
       "      <th>4</th>\n",
       "      <td>2001-01-08</td>\n",
       "      <td>268.60</td>\n",
       "      <td>2001</td>\n",
       "      <td>1</td>\n",
       "    </tr>\n",
       "  </tbody>\n",
       "</table>\n",
       "</div>"
      ],
      "text/plain": [
       "        Date   Price  Year  Month\n",
       "0 2001-01-02  272.80  2001      1\n",
       "1 2001-01-03  269.00  2001      1\n",
       "2 2001-01-04  268.75  2001      1\n",
       "3 2001-01-05  268.00  2001      1\n",
       "4 2001-01-08  268.60  2001      1"
      ]
     },
     "execution_count": 13,
     "metadata": {},
     "output_type": "execute_result"
    }
   ],
   "source": [
    "df.head()"
   ]
  },
  {
   "cell_type": "markdown",
   "id": "107fd613",
   "metadata": {},
   "source": [
    "#### See all the years and Months in our dataset"
   ]
  },
  {
   "cell_type": "code",
   "execution_count": 14,
   "id": "d9e2699f",
   "metadata": {},
   "outputs": [],
   "source": [
    "#Years"
   ]
  },
  {
   "cell_type": "code",
   "execution_count": 15,
   "id": "bb6754eb",
   "metadata": {},
   "outputs": [
    {
     "data": {
      "text/plain": [
       "array([2001, 2002, 2003, 2004, 2005, 2006, 2007, 2008, 2009, 2010, 2011,\n",
       "       2012, 2013, 2014, 2015, 2016, 2017, 2018, 2019], dtype=int64)"
      ]
     },
     "execution_count": 15,
     "metadata": {},
     "output_type": "execute_result"
    }
   ],
   "source": [
    "df['Year'].unique()"
   ]
  },
  {
   "cell_type": "code",
   "execution_count": 16,
   "id": "6f2b0a1c",
   "metadata": {},
   "outputs": [],
   "source": [
    "#Months"
   ]
  },
  {
   "cell_type": "code",
   "execution_count": 17,
   "id": "e90fd6f6",
   "metadata": {},
   "outputs": [
    {
     "data": {
      "text/plain": [
       "array([ 1,  2,  3,  4,  5,  6,  7,  8,  9, 10, 11, 12], dtype=int64)"
      ]
     },
     "execution_count": 17,
     "metadata": {},
     "output_type": "execute_result"
    }
   ],
   "source": [
    "df['Month'].unique()"
   ]
  },
  {
   "cell_type": "markdown",
   "id": "c9dbda58",
   "metadata": {},
   "source": [
    "## <span style = \"color: orange\" >Visualization</span>"
   ]
  },
  {
   "cell_type": "markdown",
   "id": "680fae97",
   "metadata": {},
   "source": [
    "### Create a regression plot with x-axis as years and y-axis as Price"
   ]
  },
  {
   "cell_type": "code",
   "execution_count": null,
   "id": "909b9c3b",
   "metadata": {},
   "outputs": [],
   "source": []
  },
  {
   "cell_type": "code",
   "execution_count": 18,
   "id": "e8d64531",
   "metadata": {},
   "outputs": [
    {
     "data": {
      "image/png": "[encoded data removed]",
      "text/plain": [
       "<Figure size 360x360 with 1 Axes>"
      ]
     },
     "metadata": {
      "needs_background": "light"
     },
     "output_type": "display_data"
    }
   ],
   "source": [
    "sns.lmplot(x='Year',y='Price',data=df, )\n",
    "plt.show()\n"
   ]
  },
  {
   "cell_type": "markdown",
   "id": "87a1fe81",
   "metadata": {},
   "source": [
    "### Plot a histplot to find the variation in price"
   ]
  },
  {
   "cell_type": "code",
   "execution_count": null,
   "id": "da8d6fa6",
   "metadata": {},
   "outputs": [],
   "source": []
  },
  {
   "cell_type": "code",
   "execution_count": 19,
   "id": "188a5581",
   "metadata": {},
   "outputs": [
    {
     "data": {
      "text/plain": [
       "<AxesSubplot:xlabel='Price', ylabel='Count'>"
      ]
     },
     "execution_count": 19,
     "metadata": {},
     "output_type": "execute_result"
    },
    {
     "data": {
      "image/png": "[encoded data removed]",
      "text/plain": [
       "<Figure size 432x288 with 1 Axes>"
      ]
     },
     "metadata": {
      "needs_background": "light"
     },
     "output_type": "display_data"
    }
   ],
   "source": [
    "sns.histplot(x='Price',data=df)"
   ]
  },
  {
   "cell_type": "markdown",
   "id": "6c2a2c75",
   "metadata": {},
   "source": [
    "### Assign year and price in x and y variables"
   ]
  },
  {
   "cell_type": "code",
   "execution_count": 20,
   "id": "1813fec8",
   "metadata": {},
   "outputs": [],
   "source": [
    "X = df[['Year']]\n",
    "y = df['Price']"
   ]
  },
  {
   "cell_type": "markdown",
   "id": "56d9d00f",
   "metadata": {},
   "source": [
    "### Split the data into traning and testin set"
   ]
  },
  {
   "cell_type": "markdown",
   "id": "df9f468a",
   "metadata": {},
   "source": [
    "We will train our model on the training set and then use the test set to evaluate the model"
   ]
  },
  {
   "cell_type": "code",
   "execution_count": 24,
   "id": "4bed6865",
   "metadata": {},
   "outputs": [],
   "source": [
    "# import train_test split\n",
    "from sklearn.model_selection import train_test_split"
   ]
  },
  {
   "cell_type": "code",
   "execution_count": 25,
   "id": "50d000eb",
   "metadata": {},
   "outputs": [],
   "source": [
    "X_train, X_test, y_train, y_test = train_test_split(X,y, test_size = 0.2, random_state=100)"
   ]
  },
  {
   "cell_type": "markdown",
   "id": "9403e8e3",
   "metadata": {},
   "source": [
    "## Train Data"
   ]
  },
  {
   "cell_type": "code",
   "execution_count": 26,
   "id": "fe98321c",
   "metadata": {},
   "outputs": [],
   "source": [
    "# import LinearRegression from sklearn\n",
    "from sklearn.linear_model import LinearRegression"
   ]
  },
  {
   "cell_type": "markdown",
   "id": "9b768e74",
   "metadata": {},
   "source": [
    "### Create Linear Regression Model"
   ]
  },
  {
   "cell_type": "code",
   "execution_count": 27,
   "id": "c76eea7a",
   "metadata": {},
   "outputs": [],
   "source": [
    "reg=LinearRegression()"
   ]
  },
  {
   "cell_type": "markdown",
   "id": "2cf05c9e",
   "metadata": {},
   "source": [
    "### Train the  model"
   ]
  },
  {
   "cell_type": "code",
   "execution_count": null,
   "id": "17434b68",
   "metadata": {},
   "outputs": [],
   "source": []
  },
  {
   "cell_type": "code",
   "execution_count": 28,
   "id": "41f77775",
   "metadata": {},
   "outputs": [
    {
     "data": {
      "text/plain": [
       "LinearRegression()"
      ]
     },
     "execution_count": 28,
     "metadata": {},
     "output_type": "execute_result"
    }
   ],
   "source": [
    "reg.fit(X_train,y_train)"
   ]
  },
  {
   "cell_type": "markdown",
   "id": "cf0446f3",
   "metadata": {},
   "source": [
    "### Check the score of our model"
   ]
  },
  {
   "cell_type": "code",
   "execution_count": null,
   "id": "335bd388",
   "metadata": {},
   "outputs": [],
   "source": []
  },
  {
   "cell_type": "code",
   "execution_count": 29,
   "id": "41f161ec",
   "metadata": {},
   "outputs": [
    {
     "data": {
      "text/plain": [
       "0.7085513157822348"
      ]
     },
     "execution_count": 29,
     "metadata": {},
     "output_type": "execute_result"
    }
   ],
   "source": [
    "reg.score(X_train,y_train)"
   ]
  },
  {
   "cell_type": "markdown",
   "id": "2a654304",
   "metadata": {},
   "source": [
    "### Check the coefficient and Intercept"
   ]
  },
  {
   "cell_type": "raw",
   "id": "a6552c59",
   "metadata": {},
   "source": [
    "#print the intercept\n"
   ]
  },
  {
   "cell_type": "code",
   "execution_count": 30,
   "id": "09588300",
   "metadata": {},
   "outputs": [
    {
     "data": {
      "text/plain": [
       "-139767.70206706654"
      ]
     },
     "execution_count": 30,
     "metadata": {},
     "output_type": "execute_result"
    }
   ],
   "source": [
    "reg.intercept_"
   ]
  },
  {
   "cell_type": "code",
   "execution_count": 31,
   "id": "2c7050c7",
   "metadata": {},
   "outputs": [],
   "source": [
    "#print the coefficent\n"
   ]
  },
  {
   "cell_type": "code",
   "execution_count": 32,
   "id": "f85763a9",
   "metadata": {},
   "outputs": [
    {
     "data": {
      "text/plain": [
       "array([70.01948266])"
      ]
     },
     "execution_count": 32,
     "metadata": {},
     "output_type": "execute_result"
    }
   ],
   "source": [
    "reg.coef_"
   ]
  },
  {
   "cell_type": "code",
   "execution_count": 33,
   "id": "88c610b6",
   "metadata": {},
   "outputs": [],
   "source": [
    "X_test.reset_index(inplace = True, drop = True)"
   ]
  },
  {
   "cell_type": "code",
   "execution_count": 34,
   "id": "27b9f062",
   "metadata": {},
   "outputs": [
    {
     "data": {
      "text/html": [
       "<div>\n",
       "<style scoped>\n",
       "    .dataframe tbody tr th:only-of-type {\n",
       "        vertical-align: middle;\n",
       "    }\n",
       "\n",
       "    .dataframe tbody tr th {\n",
       "        vertical-align: top;\n",
       "    }\n",
       "\n",
       "    .dataframe thead th {\n",
       "        text-align: right;\n",
       "    }\n",
       "</style>\n",
       "<table border=\"1\" class=\"dataframe\">\n",
       "  <thead>\n",
       "    <tr style=\"text-align: right;\">\n",
       "      <th></th>\n",
       "      <th>Year</th>\n",
       "    </tr>\n",
       "  </thead>\n",
       "  <tbody>\n",
       "    <tr>\n",
       "      <th>0</th>\n",
       "      <td>2004</td>\n",
       "    </tr>\n",
       "    <tr>\n",
       "      <th>1</th>\n",
       "      <td>2002</td>\n",
       "    </tr>\n",
       "    <tr>\n",
       "      <th>2</th>\n",
       "      <td>2013</td>\n",
       "    </tr>\n",
       "    <tr>\n",
       "      <th>3</th>\n",
       "      <td>2007</td>\n",
       "    </tr>\n",
       "    <tr>\n",
       "      <th>4</th>\n",
       "      <td>2009</td>\n",
       "    </tr>\n",
       "    <tr>\n",
       "      <th>...</th>\n",
       "      <td>...</td>\n",
       "    </tr>\n",
       "    <tr>\n",
       "      <th>939</th>\n",
       "      <td>2019</td>\n",
       "    </tr>\n",
       "    <tr>\n",
       "      <th>940</th>\n",
       "      <td>2019</td>\n",
       "    </tr>\n",
       "    <tr>\n",
       "      <th>941</th>\n",
       "      <td>2011</td>\n",
       "    </tr>\n",
       "    <tr>\n",
       "      <th>942</th>\n",
       "      <td>2006</td>\n",
       "    </tr>\n",
       "    <tr>\n",
       "      <th>943</th>\n",
       "      <td>2003</td>\n",
       "    </tr>\n",
       "  </tbody>\n",
       "</table>\n",
       "<p>944 rows × 1 columns</p>\n",
       "</div>"
      ],
      "text/plain": [
       "     Year\n",
       "0    2004\n",
       "1    2002\n",
       "2    2013\n",
       "3    2007\n",
       "4    2009\n",
       "..    ...\n",
       "939  2019\n",
       "940  2019\n",
       "941  2011\n",
       "942  2006\n",
       "943  2003\n",
       "\n",
       "[944 rows x 1 columns]"
      ]
     },
     "execution_count": 34,
     "metadata": {},
     "output_type": "execute_result"
    }
   ],
   "source": [
    "X_test"
   ]
  },
  {
   "cell_type": "markdown",
   "id": "ea41732a",
   "metadata": {},
   "source": [
    "### Make Prediction with Test data"
   ]
  },
  {
   "cell_type": "code",
   "execution_count": 35,
   "id": "8cbb5881",
   "metadata": {},
   "outputs": [],
   "source": [
    "# Also store the predicted values in a variable\n",
    "y_pred=reg.predict(X_test)\n",
    "# y_pred=pd.DataFrame(y_pred)\n",
    "# y_pred['Prediction']=y_pred\n",
    "#y_pred.drop(columns=['0'],axis=1)\n"
   ]
  },
  {
   "cell_type": "code",
   "execution_count": 36,
   "id": "09272443",
   "metadata": {
    "scrolled": true
   },
   "outputs": [
    {
     "data": {
      "text/plain": [
       "array([ 551.34119164,  411.30222631, 1181.51653562,  761.39963963,\n",
       "        901.43860496,  411.30222631,  341.28274365,  691.38015697,\n",
       "       1181.51653562, 1321.55550095,  691.38015697, 1601.6334316 ,\n",
       "       1321.55550095, 1251.53601828,  831.4191223 ,  481.32170898,\n",
       "        621.36067431,  551.34119164, 1461.59446627, 1461.59446627,\n",
       "        761.39963963,  971.45808763, 1251.53601828, 1391.57498361,\n",
       "       1181.51653562, 1251.53601828,  691.38015697, 1391.57498361,\n",
       "        551.34119164,  621.36067431, 1601.6334316 , 1391.57498361,\n",
       "       1041.47757029, 1531.61394894,  971.45808763, 1531.61394894,\n",
       "       1251.53601828,  481.32170898, 1391.57498361, 1601.6334316 ,\n",
       "        971.45808763, 1321.55550095, 1391.57498361,  971.45808763,\n",
       "        691.38015697,  971.45808763, 1461.59446627,  761.39963963,\n",
       "       1391.57498361, 1531.61394894, 1181.51653562, 1041.47757029,\n",
       "       1461.59446627,  621.36067431, 1111.49705295,  621.36067431,\n",
       "        831.4191223 ,  341.28274365, 1391.57498361,  971.45808763,\n",
       "        411.30222631,  621.36067431, 1251.53601828, 1461.59446627,\n",
       "        761.39963963,  901.43860496,  621.36067431,  481.32170898,\n",
       "        551.34119164,  551.34119164, 1391.57498361, 1111.49705295,\n",
       "        411.30222631, 1461.59446627,  621.36067431, 1321.55550095,\n",
       "       1181.51653562, 1461.59446627, 1461.59446627,  971.45808763,\n",
       "       1531.61394894, 1391.57498361, 1251.53601828,  901.43860496,\n",
       "       1181.51653562, 1531.61394894,  621.36067431, 1531.61394894,\n",
       "       1321.55550095,  971.45808763,  901.43860496,  901.43860496,\n",
       "       1321.55550095, 1531.61394894,  621.36067431, 1251.53601828,\n",
       "        691.38015697,  341.28274365, 1041.47757029, 1251.53601828,\n",
       "       1321.55550095,  481.32170898,  621.36067431, 1601.6334316 ,\n",
       "       1181.51653562,  691.38015697,  761.39963963,  481.32170898,\n",
       "        551.34119164, 1181.51653562,  971.45808763, 1461.59446627,\n",
       "       1251.53601828,  691.38015697, 1111.49705295,  971.45808763,\n",
       "       1461.59446627,  971.45808763,  831.4191223 , 1181.51653562,\n",
       "        341.28274365, 1531.61394894,  551.34119164, 1251.53601828,\n",
       "       1041.47757029, 1321.55550095, 1461.59446627,  341.28274365,\n",
       "        691.38015697, 1391.57498361,  551.34119164,  481.32170898,\n",
       "       1391.57498361,  971.45808763, 1321.55550095,  761.39963963,\n",
       "       1321.55550095,  761.39963963,  901.43860496, 1041.47757029,\n",
       "       1531.61394894, 1391.57498361,  971.45808763, 1251.53601828,\n",
       "       1181.51653562,  971.45808763, 1111.49705295, 1601.6334316 ,\n",
       "        901.43860496,  761.39963963,  761.39963963,  831.4191223 ,\n",
       "       1251.53601828,  691.38015697,  691.38015697,  621.36067431,\n",
       "        831.4191223 ,  341.28274365,  481.32170898,  551.34119164,\n",
       "       1041.47757029, 1111.49705295, 1181.51653562, 1601.6334316 ,\n",
       "        411.30222631, 1321.55550095,  551.34119164, 1531.61394894,\n",
       "       1041.47757029,  621.36067431,  761.39963963,  341.28274365,\n",
       "       1041.47757029, 1181.51653562, 1601.6334316 , 1321.55550095,\n",
       "        341.28274365,  551.34119164,  481.32170898,  341.28274365,\n",
       "       1391.57498361,  761.39963963,  621.36067431,  341.28274365,\n",
       "        831.4191223 ,  901.43860496, 1601.6334316 ,  411.30222631,\n",
       "        691.38015697, 1111.49705295,  341.28274365, 1321.55550095,\n",
       "        621.36067431,  481.32170898,  481.32170898,  971.45808763,\n",
       "        411.30222631, 1461.59446627,  341.28274365, 1531.61394894,\n",
       "        831.4191223 ,  341.28274365, 1391.57498361,  971.45808763,\n",
       "        621.36067431, 1531.61394894, 1181.51653562,  551.34119164,\n",
       "        901.43860496,  551.34119164,  411.30222631, 1461.59446627,\n",
       "       1391.57498361,  761.39963963,  621.36067431,  411.30222631,\n",
       "       1461.59446627,  831.4191223 ,  481.32170898, 1321.55550095,\n",
       "       1251.53601828, 1321.55550095, 1601.6334316 ,  691.38015697,\n",
       "       1531.61394894, 1111.49705295, 1111.49705295, 1531.61394894,\n",
       "       1251.53601828,  411.30222631,  901.43860496,  971.45808763,\n",
       "        971.45808763, 1391.57498361,  831.4191223 , 1251.53601828,\n",
       "       1111.49705295, 1181.51653562, 1391.57498361, 1391.57498361,\n",
       "       1321.55550095, 1251.53601828, 1251.53601828,  341.28274365,\n",
       "       1251.53601828,  411.30222631,  621.36067431, 1461.59446627,\n",
       "       1321.55550095, 1321.55550095, 1251.53601828, 1041.47757029,\n",
       "       1391.57498361, 1461.59446627,  691.38015697,  831.4191223 ,\n",
       "        551.34119164, 1531.61394894,  341.28274365,  411.30222631,\n",
       "       1601.6334316 ,  341.28274365, 1041.47757029,  761.39963963,\n",
       "       1461.59446627,  971.45808763, 1111.49705295,  901.43860496,\n",
       "       1041.47757029,  481.32170898, 1461.59446627,  691.38015697,\n",
       "       1041.47757029,  761.39963963,  971.45808763, 1041.47757029,\n",
       "       1251.53601828, 1321.55550095,  761.39963963,  761.39963963,\n",
       "        551.34119164,  341.28274365,  761.39963963,  691.38015697,\n",
       "       1041.47757029,  761.39963963,  411.30222631,  901.43860496,\n",
       "        831.4191223 , 1391.57498361,  551.34119164,  901.43860496,\n",
       "       1041.47757029,  901.43860496, 1181.51653562,  551.34119164,\n",
       "        691.38015697,  621.36067431,  411.30222631,  551.34119164,\n",
       "       1321.55550095, 1111.49705295, 1391.57498361,  621.36067431,\n",
       "       1461.59446627, 1391.57498361,  481.32170898, 1391.57498361,\n",
       "        971.45808763, 1251.53601828,  411.30222631,  691.38015697,\n",
       "       1601.6334316 , 1601.6334316 , 1111.49705295, 1251.53601828,\n",
       "       1251.53601828, 1041.47757029,  901.43860496, 1321.55550095,\n",
       "       1531.61394894,  761.39963963,  341.28274365,  341.28274365,\n",
       "        621.36067431, 1181.51653562,  691.38015697, 1181.51653562,\n",
       "       1391.57498361, 1531.61394894,  411.30222631,  761.39963963,\n",
       "        831.4191223 ,  691.38015697, 1321.55550095, 1181.51653562,\n",
       "       1251.53601828, 1391.57498361, 1321.55550095, 1321.55550095,\n",
       "        621.36067431,  831.4191223 , 1041.47757029,  411.30222631,\n",
       "        971.45808763,  551.34119164,  411.30222631,  761.39963963,\n",
       "        761.39963963, 1601.6334316 ,  481.32170898,  831.4191223 ,\n",
       "       1601.6334316 , 1531.61394894,  761.39963963,  411.30222631,\n",
       "        971.45808763, 1251.53601828,  551.34119164,  761.39963963,\n",
       "       1041.47757029, 1251.53601828,  411.30222631, 1111.49705295,\n",
       "       1041.47757029, 1041.47757029, 1391.57498361,  831.4191223 ,\n",
       "        621.36067431, 1181.51653562, 1391.57498361,  901.43860496,\n",
       "       1391.57498361,  481.32170898,  971.45808763,  691.38015697,\n",
       "        761.39963963, 1251.53601828,  761.39963963,  621.36067431,\n",
       "       1181.51653562, 1321.55550095,  971.45808763,  901.43860496,\n",
       "        341.28274365, 1181.51653562, 1041.47757029,  761.39963963,\n",
       "       1111.49705295,  411.30222631, 1041.47757029, 1181.51653562,\n",
       "        621.36067431,  901.43860496,  411.30222631, 1391.57498361,\n",
       "        411.30222631, 1321.55550095,  691.38015697, 1601.6334316 ,\n",
       "        901.43860496,  551.34119164,  691.38015697,  481.32170898,\n",
       "        691.38015697, 1041.47757029,  971.45808763, 1181.51653562,\n",
       "        481.32170898,  691.38015697,  621.36067431, 1041.47757029,\n",
       "        621.36067431,  761.39963963,  481.32170898, 1391.57498361,\n",
       "       1041.47757029, 1391.57498361,  761.39963963, 1601.6334316 ,\n",
       "       1321.55550095, 1321.55550095, 1041.47757029,  831.4191223 ,\n",
       "       1321.55550095,  621.36067431, 1391.57498361, 1601.6334316 ,\n",
       "       1251.53601828,  481.32170898,  691.38015697,  691.38015697,\n",
       "        691.38015697, 1111.49705295, 1321.55550095, 1041.47757029,\n",
       "        411.30222631, 1531.61394894, 1391.57498361, 1461.59446627,\n",
       "        551.34119164, 1391.57498361,  761.39963963,  761.39963963,\n",
       "       1601.6334316 , 1321.55550095, 1111.49705295,  551.34119164,\n",
       "       1531.61394894, 1461.59446627, 1111.49705295, 1181.51653562,\n",
       "        551.34119164,  481.32170898,  481.32170898, 1461.59446627,\n",
       "        761.39963963,  621.36067431,  481.32170898,  691.38015697,\n",
       "        901.43860496,  621.36067431, 1321.55550095, 1041.47757029,\n",
       "       1111.49705295, 1251.53601828,  551.34119164,  341.28274365,\n",
       "       1251.53601828, 1321.55550095, 1181.51653562, 1531.61394894,\n",
       "        341.28274365,  481.32170898,  551.34119164,  691.38015697,\n",
       "        831.4191223 ,  551.34119164,  691.38015697, 1041.47757029,\n",
       "       1041.47757029,  481.32170898,  691.38015697, 1601.6334316 ,\n",
       "        341.28274365, 1321.55550095,  621.36067431, 1111.49705295,\n",
       "        691.38015697, 1111.49705295, 1391.57498361, 1181.51653562,\n",
       "        341.28274365,  551.34119164, 1041.47757029, 1531.61394894,\n",
       "        411.30222631,  691.38015697, 1251.53601828, 1041.47757029,\n",
       "       1391.57498361,  621.36067431, 1041.47757029,  341.28274365,\n",
       "       1041.47757029,  481.32170898,  831.4191223 ,  691.38015697,\n",
       "        551.34119164, 1531.61394894,  411.30222631,  481.32170898,\n",
       "        481.32170898,  341.28274365, 1181.51653562,  971.45808763,\n",
       "        551.34119164,  411.30222631, 1111.49705295, 1181.51653562,\n",
       "        691.38015697, 1111.49705295,  971.45808763, 1111.49705295,\n",
       "        901.43860496,  761.39963963, 1251.53601828,  971.45808763,\n",
       "       1531.61394894,  831.4191223 ,  691.38015697,  341.28274365,\n",
       "       1391.57498361, 1531.61394894, 1531.61394894,  481.32170898,\n",
       "       1041.47757029,  481.32170898, 1251.53601828, 1601.6334316 ,\n",
       "        691.38015697, 1041.47757029,  691.38015697,  411.30222631,\n",
       "        691.38015697,  481.32170898,  901.43860496,  411.30222631,\n",
       "       1041.47757029,  551.34119164, 1601.6334316 ,  551.34119164,\n",
       "       1391.57498361,  761.39963963,  831.4191223 , 1391.57498361,\n",
       "       1531.61394894,  901.43860496, 1321.55550095,  761.39963963,\n",
       "       1111.49705295,  971.45808763, 1391.57498361, 1111.49705295,\n",
       "       1531.61394894,  481.32170898,  831.4191223 , 1321.55550095,\n",
       "       1531.61394894, 1531.61394894, 1461.59446627, 1251.53601828,\n",
       "        691.38015697, 1181.51653562,  761.39963963,  411.30222631,\n",
       "       1181.51653562,  551.34119164,  621.36067431, 1461.59446627,\n",
       "       1531.61394894, 1251.53601828,  621.36067431,  831.4191223 ,\n",
       "        621.36067431,  831.4191223 , 1181.51653562,  411.30222631,\n",
       "       1251.53601828,  481.32170898, 1461.59446627, 1041.47757029,\n",
       "        761.39963963,  691.38015697,  411.30222631, 1391.57498361,\n",
       "       1531.61394894, 1321.55550095,  901.43860496,  551.34119164,\n",
       "        901.43860496, 1391.57498361, 1461.59446627, 1041.47757029,\n",
       "        411.30222631,  971.45808763, 1111.49705295,  621.36067431,\n",
       "        971.45808763, 1181.51653562,  551.34119164, 1251.53601828,\n",
       "       1251.53601828,  901.43860496, 1461.59446627,  831.4191223 ,\n",
       "        341.28274365,  691.38015697, 1321.55550095, 1041.47757029,\n",
       "        901.43860496,  411.30222631,  411.30222631, 1531.61394894,\n",
       "       1251.53601828,  621.36067431,  971.45808763, 1321.55550095,\n",
       "        621.36067431,  831.4191223 , 1111.49705295,  411.30222631,\n",
       "       1041.47757029, 1391.57498361,  341.28274365, 1391.57498361,\n",
       "       1111.49705295,  551.34119164,  971.45808763, 1601.6334316 ,\n",
       "        901.43860496, 1251.53601828,  831.4191223 , 1111.49705295,\n",
       "       1041.47757029,  831.4191223 ,  481.32170898,  691.38015697,\n",
       "       1041.47757029,  481.32170898,  831.4191223 , 1391.57498361,\n",
       "       1321.55550095,  901.43860496, 1181.51653562, 1321.55550095,\n",
       "       1461.59446627, 1601.6334316 ,  971.45808763, 1041.47757029,\n",
       "        341.28274365, 1321.55550095, 1321.55550095, 1041.47757029,\n",
       "       1321.55550095,  621.36067431, 1041.47757029, 1391.57498361,\n",
       "        691.38015697, 1461.59446627,  411.30222631,  691.38015697,\n",
       "        341.28274365,  551.34119164,  551.34119164,  551.34119164,\n",
       "        901.43860496, 1601.6334316 ,  621.36067431,  691.38015697,\n",
       "       1391.57498361,  481.32170898, 1321.55550095,  761.39963963,\n",
       "        971.45808763,  411.30222631,  481.32170898,  341.28274365,\n",
       "       1391.57498361,  901.43860496, 1461.59446627, 1601.6334316 ,\n",
       "       1461.59446627,  761.39963963, 1111.49705295, 1111.49705295,\n",
       "        901.43860496, 1181.51653562,  971.45808763,  551.34119164,\n",
       "       1181.51653562, 1251.53601828, 1461.59446627,  621.36067431,\n",
       "        761.39963963, 1041.47757029,  481.32170898,  481.32170898,\n",
       "        691.38015697,  621.36067431,  341.28274365,  551.34119164,\n",
       "       1111.49705295, 1181.51653562, 1461.59446627, 1531.61394894,\n",
       "        901.43860496,  411.30222631,  411.30222631, 1041.47757029,\n",
       "        831.4191223 ,  341.28274365, 1531.61394894, 1461.59446627,\n",
       "        621.36067431,  971.45808763, 1391.57498361, 1391.57498361,\n",
       "       1111.49705295,  691.38015697,  831.4191223 , 1531.61394894,\n",
       "        761.39963963, 1391.57498361,  971.45808763,  551.34119164,\n",
       "       1251.53601828,  551.34119164, 1111.49705295, 1251.53601828,\n",
       "       1531.61394894, 1321.55550095,  621.36067431,  551.34119164,\n",
       "        901.43860496, 1181.51653562,  551.34119164, 1111.49705295,\n",
       "        761.39963963,  621.36067431,  691.38015697,  341.28274365,\n",
       "       1321.55550095,  621.36067431,  341.28274365, 1601.6334316 ,\n",
       "       1181.51653562, 1251.53601828, 1181.51653562, 1041.47757029,\n",
       "        551.34119164,  691.38015697,  411.30222631, 1181.51653562,\n",
       "        761.39963963,  341.28274365,  761.39963963,  341.28274365,\n",
       "        341.28274365, 1111.49705295, 1251.53601828,  621.36067431,\n",
       "        481.32170898,  481.32170898,  761.39963963,  761.39963963,\n",
       "       1181.51653562,  551.34119164,  621.36067431,  691.38015697,\n",
       "       1531.61394894, 1461.59446627, 1321.55550095, 1461.59446627,\n",
       "        901.43860496,  341.28274365,  761.39963963, 1251.53601828,\n",
       "        621.36067431,  971.45808763, 1041.47757029,  761.39963963,\n",
       "        831.4191223 , 1321.55550095, 1041.47757029, 1601.6334316 ,\n",
       "       1181.51653562,  551.34119164, 1321.55550095, 1391.57498361,\n",
       "       1461.59446627, 1181.51653562,  481.32170898, 1321.55550095,\n",
       "        621.36067431,  411.30222631, 1531.61394894,  341.28274365,\n",
       "        551.34119164,  971.45808763, 1181.51653562, 1321.55550095,\n",
       "        481.32170898, 1111.49705295, 1321.55550095,  761.39963963,\n",
       "        341.28274365,  831.4191223 , 1041.47757029, 1531.61394894,\n",
       "        831.4191223 ,  621.36067431,  831.4191223 ,  341.28274365,\n",
       "        971.45808763,  971.45808763,  341.28274365,  971.45808763,\n",
       "        341.28274365, 1461.59446627,  831.4191223 ,  341.28274365,\n",
       "        481.32170898, 1601.6334316 ,  901.43860496,  831.4191223 ,\n",
       "        971.45808763,  341.28274365, 1531.61394894,  971.45808763,\n",
       "        831.4191223 , 1601.6334316 ,  971.45808763, 1461.59446627,\n",
       "       1321.55550095,  621.36067431,  761.39963963,  901.43860496,\n",
       "        831.4191223 ,  551.34119164,  901.43860496,  971.45808763,\n",
       "        831.4191223 , 1461.59446627, 1461.59446627, 1391.57498361,\n",
       "        551.34119164,  411.30222631,  971.45808763,  971.45808763,\n",
       "       1391.57498361, 1111.49705295,  551.34119164, 1251.53601828,\n",
       "       1321.55550095,  761.39963963, 1321.55550095,  341.28274365,\n",
       "       1251.53601828,  411.30222631,  831.4191223 ,  761.39963963,\n",
       "       1181.51653562,  481.32170898, 1601.6334316 ,  971.45808763,\n",
       "        761.39963963,  971.45808763,  971.45808763,  901.43860496,\n",
       "        411.30222631, 1041.47757029,  621.36067431, 1111.49705295,\n",
       "        551.34119164,  691.38015697,  691.38015697,  481.32170898,\n",
       "       1181.51653562, 1461.59446627, 1041.47757029,  691.38015697,\n",
       "       1041.47757029, 1041.47757029, 1391.57498361, 1391.57498361,\n",
       "        901.43860496,  551.34119164, 1181.51653562, 1601.6334316 ,\n",
       "       1391.57498361, 1041.47757029, 1321.55550095,  551.34119164,\n",
       "       1601.6334316 ,  551.34119164, 1111.49705295, 1391.57498361,\n",
       "        411.30222631, 1181.51653562,  971.45808763, 1461.59446627,\n",
       "        971.45808763, 1041.47757029,  971.45808763,  621.36067431,\n",
       "       1041.47757029, 1181.51653562, 1391.57498361,  901.43860496,\n",
       "        551.34119164, 1041.47757029,  971.45808763,  411.30222631,\n",
       "       1321.55550095, 1251.53601828,  411.30222631,  551.34119164,\n",
       "       1601.6334316 , 1041.47757029, 1601.6334316 ,  761.39963963,\n",
       "       1391.57498361, 1251.53601828,  831.4191223 , 1391.57498361,\n",
       "        551.34119164,  831.4191223 , 1111.49705295, 1601.6334316 ,\n",
       "       1601.6334316 , 1041.47757029,  691.38015697,  481.32170898])"
      ]
     },
     "execution_count": 36,
     "metadata": {},
     "output_type": "execute_result"
    }
   ],
   "source": [
    "y_pred"
   ]
  },
  {
   "cell_type": "code",
   "execution_count": 37,
   "id": "0f6c3768",
   "metadata": {},
   "outputs": [],
   "source": [
    "#y_pred.rename(columns={\"0\":\"Prediction\"})\n",
    "#y_pred.drop(['0'],index=1,inplace=True)\n",
    "#y_pred.head(2)"
   ]
  },
  {
   "cell_type": "code",
   "execution_count": 38,
   "id": "6d080a20",
   "metadata": {},
   "outputs": [
    {
     "data": {
      "text/plain": [
       "962    425.5\n",
       "403    307.8\n",
       "Name: Price, dtype: float64"
      ]
     },
     "execution_count": 38,
     "metadata": {},
     "output_type": "execute_result"
    }
   ],
   "source": [
    "y_test.head(2)"
   ]
  },
  {
   "cell_type": "markdown",
   "id": "7f984177",
   "metadata": {},
   "source": [
    "### Create a new dataframe with actual and predicted values with year(X_test) as index"
   ]
  },
  {
   "cell_type": "code",
   "execution_count": 39,
   "id": "57b8cae8",
   "metadata": {},
   "outputs": [],
   "source": [
    "X_test['Actual'] = y_test.values"
   ]
  },
  {
   "cell_type": "code",
   "execution_count": 40,
   "id": "3329d45d",
   "metadata": {},
   "outputs": [],
   "source": [
    "X_test['Predicted']= y_pred"
   ]
  },
  {
   "cell_type": "code",
   "execution_count": 41,
   "id": "fe5ffd04",
   "metadata": {},
   "outputs": [],
   "source": [
    "\n",
    "# nw_df=pd.concat([X_test,y_test,y_pred],axis=1)\n",
    "# nw_df.head(2)\n",
    "#nw_df.head()"
   ]
  },
  {
   "cell_type": "code",
   "execution_count": 42,
   "id": "4841952d",
   "metadata": {},
   "outputs": [
    {
     "data": {
      "text/html": [
       "<div>\n",
       "<style scoped>\n",
       "    .dataframe tbody tr th:only-of-type {\n",
       "        vertical-align: middle;\n",
       "    }\n",
       "\n",
       "    .dataframe tbody tr th {\n",
       "        vertical-align: top;\n",
       "    }\n",
       "\n",
       "    .dataframe thead th {\n",
       "        text-align: right;\n",
       "    }\n",
       "</style>\n",
       "<table border=\"1\" class=\"dataframe\">\n",
       "  <thead>\n",
       "    <tr style=\"text-align: right;\">\n",
       "      <th></th>\n",
       "      <th>Year</th>\n",
       "      <th>Actual</th>\n",
       "      <th>Predicted</th>\n",
       "    </tr>\n",
       "  </thead>\n",
       "  <tbody>\n",
       "    <tr>\n",
       "      <th>0</th>\n",
       "      <td>2004</td>\n",
       "      <td>425.50</td>\n",
       "      <td>551.341192</td>\n",
       "    </tr>\n",
       "    <tr>\n",
       "      <th>1</th>\n",
       "      <td>2002</td>\n",
       "      <td>307.80</td>\n",
       "      <td>411.302226</td>\n",
       "    </tr>\n",
       "    <tr>\n",
       "      <th>2</th>\n",
       "      <td>2013</td>\n",
       "      <td>1335.75</td>\n",
       "      <td>1181.516536</td>\n",
       "    </tr>\n",
       "    <tr>\n",
       "      <th>3</th>\n",
       "      <td>2007</td>\n",
       "      <td>687.25</td>\n",
       "      <td>761.399640</td>\n",
       "    </tr>\n",
       "    <tr>\n",
       "      <th>4</th>\n",
       "      <td>2009</td>\n",
       "      <td>924.75</td>\n",
       "      <td>901.438605</td>\n",
       "    </tr>\n",
       "    <tr>\n",
       "      <th>...</th>\n",
       "      <td>...</td>\n",
       "      <td>...</td>\n",
       "      <td>...</td>\n",
       "    </tr>\n",
       "    <tr>\n",
       "      <th>939</th>\n",
       "      <td>2019</td>\n",
       "      <td>1306.60</td>\n",
       "      <td>1601.633432</td>\n",
       "    </tr>\n",
       "    <tr>\n",
       "      <th>940</th>\n",
       "      <td>2019</td>\n",
       "      <td>1275.25</td>\n",
       "      <td>1601.633432</td>\n",
       "    </tr>\n",
       "    <tr>\n",
       "      <th>941</th>\n",
       "      <td>2011</td>\n",
       "      <td>1369.25</td>\n",
       "      <td>1041.477570</td>\n",
       "    </tr>\n",
       "    <tr>\n",
       "      <th>942</th>\n",
       "      <td>2006</td>\n",
       "      <td>541.00</td>\n",
       "      <td>691.380157</td>\n",
       "    </tr>\n",
       "    <tr>\n",
       "      <th>943</th>\n",
       "      <td>2003</td>\n",
       "      <td>348.70</td>\n",
       "      <td>481.321709</td>\n",
       "    </tr>\n",
       "  </tbody>\n",
       "</table>\n",
       "<p>944 rows × 3 columns</p>\n",
       "</div>"
      ],
      "text/plain": [
       "     Year   Actual    Predicted\n",
       "0    2004   425.50   551.341192\n",
       "1    2002   307.80   411.302226\n",
       "2    2013  1335.75  1181.516536\n",
       "3    2007   687.25   761.399640\n",
       "4    2009   924.75   901.438605\n",
       "..    ...      ...          ...\n",
       "939  2019  1306.60  1601.633432\n",
       "940  2019  1275.25  1601.633432\n",
       "941  2011  1369.25  1041.477570\n",
       "942  2006   541.00   691.380157\n",
       "943  2003   348.70   481.321709\n",
       "\n",
       "[944 rows x 3 columns]"
      ]
     },
     "execution_count": 42,
     "metadata": {},
     "output_type": "execute_result"
    }
   ],
   "source": [
    "X_test"
   ]
  },
  {
   "cell_type": "markdown",
   "id": "426592f1",
   "metadata": {},
   "source": [
    "### Check the mean absolute error, mean square error"
   ]
  },
  {
   "cell_type": "code",
   "execution_count": 43,
   "id": "05a5b97f",
   "metadata": {},
   "outputs": [],
   "source": [
    "from sklearn.metrics import mean_absolute_error, mean_squared_error"
   ]
  },
  {
   "cell_type": "code",
   "execution_count": 44,
   "id": "a8808ca4",
   "metadata": {},
   "outputs": [],
   "source": [
    "# Mean absolute error\n"
   ]
  },
  {
   "cell_type": "code",
   "execution_count": 45,
   "id": "370b724d",
   "metadata": {},
   "outputs": [
    {
     "data": {
      "text/plain": [
       "187.58323879063857"
      ]
     },
     "execution_count": 45,
     "metadata": {},
     "output_type": "execute_result"
    }
   ],
   "source": [
    "mean_absolute_error(y_test,y_pred)"
   ]
  },
  {
   "cell_type": "code",
   "execution_count": 46,
   "id": "bd542ca0",
   "metadata": {},
   "outputs": [],
   "source": [
    "# Mean squared error\n"
   ]
  },
  {
   "cell_type": "code",
   "execution_count": 47,
   "id": "1b404956",
   "metadata": {},
   "outputs": [
    {
     "data": {
      "text/plain": [
       "60025.98233022039"
      ]
     },
     "execution_count": 47,
     "metadata": {},
     "output_type": "execute_result"
    }
   ],
   "source": [
    "mean_squared_error(y_pred,y_test)"
   ]
  },
  {
   "cell_type": "markdown",
   "id": "7efec3da",
   "metadata": {},
   "source": [
    "### Predict the prices for the following years\n",
    "   * 2025, 2026, 2027, 2028, 2030"
   ]
  },
  {
   "cell_type": "code",
   "execution_count": 121,
   "id": "818e1d4a",
   "metadata": {},
   "outputs": [],
   "source": [
    "a = [2025, 2026, 2027, 2028, 2030]"
   ]
  },
  {
   "cell_type": "code",
   "execution_count": 125,
   "id": "90cb7760",
   "metadata": {},
   "outputs": [],
   "source": [
    "a = pd.DataFrame(a, columns = ['Year'])"
   ]
  },
  {
   "cell_type": "code",
   "execution_count": 126,
   "id": "a84ef143",
   "metadata": {},
   "outputs": [
    {
     "data": {
      "text/plain": [
       "array([2021.75032759, 2091.76981025, 2161.78929291, 2231.80877558,\n",
       "       2371.84774091])"
      ]
     },
     "execution_count": 126,
     "metadata": {},
     "output_type": "execute_result"
    }
   ],
   "source": [
    "reg.predict(a)"
   ]
  },
  {
   "cell_type": "code",
   "execution_count": 49,
   "id": "bd7de6a9",
   "metadata": {},
   "outputs": [
    {
     "data": {
      "text/html": [
       "<div>\n",
       "<style scoped>\n",
       "    .dataframe tbody tr th:only-of-type {\n",
       "        vertical-align: middle;\n",
       "    }\n",
       "\n",
       "    .dataframe tbody tr th {\n",
       "        vertical-align: top;\n",
       "    }\n",
       "\n",
       "    .dataframe thead th {\n",
       "        text-align: right;\n",
       "    }\n",
       "</style>\n",
       "<table border=\"1\" class=\"dataframe\">\n",
       "  <thead>\n",
       "    <tr style=\"text-align: right;\">\n",
       "      <th></th>\n",
       "      <th>Year</th>\n",
       "      <th>Actual</th>\n",
       "      <th>Predicted</th>\n",
       "    </tr>\n",
       "  </thead>\n",
       "  <tbody>\n",
       "    <tr>\n",
       "      <th>0</th>\n",
       "      <td>2004</td>\n",
       "      <td>425.5</td>\n",
       "      <td>551.341192</td>\n",
       "    </tr>\n",
       "    <tr>\n",
       "      <th>1</th>\n",
       "      <td>2002</td>\n",
       "      <td>307.8</td>\n",
       "      <td>411.302226</td>\n",
       "    </tr>\n",
       "  </tbody>\n",
       "</table>\n",
       "</div>"
      ],
      "text/plain": [
       "   Year  Actual   Predicted\n",
       "0  2004   425.5  551.341192\n",
       "1  2002   307.8  411.302226"
      ]
     },
     "execution_count": 49,
     "metadata": {},
     "output_type": "execute_result"
    }
   ],
   "source": [
    "X_test.head(2)"
   ]
  },
  {
   "cell_type": "code",
   "execution_count": 63,
   "id": "496ae98e",
   "metadata": {},
   "outputs": [
    {
     "data": {
      "text/plain": [
       "Series([], Name: Year, dtype: int64)"
      ]
     },
     "execution_count": 63,
     "metadata": {},
     "output_type": "execute_result"
    }
   ],
   "source": [
    "X_test[X_test['Predicted'] == 411.302226]['Year']"
   ]
  },
  {
   "cell_type": "markdown",
   "id": "07afb47f",
   "metadata": {},
   "source": [
    "***"
   ]
  },
  {
   "cell_type": "markdown",
   "id": "d5e2044e",
   "metadata": {},
   "source": [
    "# <span style = \"color:green;font-size:40px\"> Great Job!</span>"
   ]
  }
 ],
 "metadata": {
  "kernelspec": {
   "display_name": "Python 3 (ipykernel)",
   "language": "python",
   "name": "python3"
  },
  "language_info": {
   "codemirror_mode": {
    "name": "ipython",
    "version": 3
   },
   "file_extension": ".py",
   "mimetype": "text/x-python",
   "name": "python",
   "nbconvert_exporter": "python",
   "pygments_lexer": "ipython3",
   "version": "3.9.12"
  }
 },
 "nbformat": 4,
 "nbformat_minor": 5
}
